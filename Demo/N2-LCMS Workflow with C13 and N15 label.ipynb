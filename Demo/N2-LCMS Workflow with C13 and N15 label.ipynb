{
 "cells": [
  {
   "cell_type": "markdown",
   "metadata": {},
   "source": [
    "This notebook can be used to calculate NA Corrected intensities as well as fractional enrichment for LCMS input assuming infinite resolution. The example deals with a dataset having two labels C13 and N15:\n",
    "\n",
    " - C13N15_lcms_high_res.csv - demo raw MS intensity file containing intensities for C17H27N3O17P2 from the data file of the repository published by Carreer William et. al. in 2013"
   ]
  },
  {
   "cell_type": "code",
   "execution_count": 1,
   "metadata": {},
   "outputs": [],
   "source": [
    "import pandas as pd\n",
    "import numpy as np\n",
    "import re\n",
    "\n",
    "from corna.inputs import maven_parser as parser\n",
    "import corna.constants as const\n",
    "from corna.helpers import get_isotope_na, replace_negatives_in_column\n",
    "from corna.algorithms import matrix_calc as algo\n",
    "from corna.algorithms.nacorr_lcms import na_correction\n",
    "from corna.postprocess import fractional_enrichment\n"
   ]
  },
  {
   "cell_type": "markdown",
   "metadata": {},
   "source": [
    "Reading raw file and merging with sample metadata if present"
   ]
  },
  {
   "cell_type": "code",
   "execution_count": 2,
   "metadata": {},
   "outputs": [
    {
     "data": {
      "text/html": [
       "<div>\n",
       "<style scoped>\n",
       "    .dataframe tbody tr th:only-of-type {\n",
       "        vertical-align: middle;\n",
       "    }\n",
       "\n",
       "    .dataframe tbody tr th {\n",
       "        vertical-align: top;\n",
       "    }\n",
       "\n",
       "    .dataframe thead th {\n",
       "        text-align: right;\n",
       "    }\n",
       "</style>\n",
       "<table border=\"1\" class=\"dataframe\">\n",
       "  <thead>\n",
       "    <tr style=\"text-align: right;\">\n",
       "      <th></th>\n",
       "      <th>Name</th>\n",
       "      <th>Label</th>\n",
       "      <th>Formula</th>\n",
       "      <th>Sample</th>\n",
       "      <th>Intensity</th>\n",
       "      <th>Unlabeled Fragment</th>\n",
       "    </tr>\n",
       "  </thead>\n",
       "  <tbody>\n",
       "    <tr>\n",
       "      <th>0</th>\n",
       "      <td>Cpd1</td>\n",
       "      <td>C12 PARENT</td>\n",
       "      <td>C17H27N3O17P2</td>\n",
       "      <td>Sample 1</td>\n",
       "      <td>41592.2</td>\n",
       "      <td>Cpd1</td>\n",
       "    </tr>\n",
       "    <tr>\n",
       "      <th>1</th>\n",
       "      <td>Cpd1</td>\n",
       "      <td>C13-label-1</td>\n",
       "      <td>C17H27N3O17P2</td>\n",
       "      <td>Sample 1</td>\n",
       "      <td>6143.7</td>\n",
       "      <td>Cpd1</td>\n",
       "    </tr>\n",
       "    <tr>\n",
       "      <th>2</th>\n",
       "      <td>Cpd1</td>\n",
       "      <td>C13-label-2</td>\n",
       "      <td>C17H27N3O17P2</td>\n",
       "      <td>Sample 1</td>\n",
       "      <td>2716.9</td>\n",
       "      <td>Cpd1</td>\n",
       "    </tr>\n",
       "    <tr>\n",
       "      <th>3</th>\n",
       "      <td>Cpd1</td>\n",
       "      <td>C13-label-3</td>\n",
       "      <td>C17H27N3O17P2</td>\n",
       "      <td>Sample 1</td>\n",
       "      <td>123.8</td>\n",
       "      <td>Cpd1</td>\n",
       "    </tr>\n",
       "    <tr>\n",
       "      <th>4</th>\n",
       "      <td>Cpd1</td>\n",
       "      <td>C13-label-4</td>\n",
       "      <td>C17H27N3O17P2</td>\n",
       "      <td>Sample 1</td>\n",
       "      <td>45.9</td>\n",
       "      <td>Cpd1</td>\n",
       "    </tr>\n",
       "  </tbody>\n",
       "</table>\n",
       "</div>"
      ],
      "text/plain": [
       "   Name        Label        Formula    Sample  Intensity Unlabeled Fragment\n",
       "0  Cpd1   C12 PARENT  C17H27N3O17P2  Sample 1    41592.2               Cpd1\n",
       "1  Cpd1  C13-label-1  C17H27N3O17P2  Sample 1     6143.7               Cpd1\n",
       "2  Cpd1  C13-label-2  C17H27N3O17P2  Sample 1     2716.9               Cpd1\n",
       "3  Cpd1  C13-label-3  C17H27N3O17P2  Sample 1      123.8               Cpd1\n",
       "4  Cpd1  C13-label-4  C17H27N3O17P2  Sample 1       45.9               Cpd1"
      ]
     },
     "execution_count": 2,
     "metadata": {},
     "output_type": "execute_result"
    }
   ],
   "source": [
    "raw_df = pd.read_csv('C13N15_lcms_high_res.csv')\n",
    "#sample_metadata = pd.read_csv('meta_sample_lcms_high_res.csv')\n",
    "\n",
    "#if sample metadata not present, set it to empty dataframe\n",
    "sample_metadata = pd.DataFrame()\n",
    "\n",
    "merged_df, iso_tracer_data, element_list = parser.read_maven_file(raw_df, sample_metadata)\n",
    "merged_df.head()"
   ]
  },
  {
   "cell_type": "markdown",
   "metadata": {},
   "source": [
    "Dictionary containing natural abundance values for the common isotopes found in nature. It can be defined by the user or one can use the default values from the package. This example shows usage of user defined values. The format being {E:[M0, M1, ..Mn]} where E is the element symbol and the natural abundance fraction is in the increasing order of masses. For example: na_dict = {'O': [0.99757, 0.00038, 0.00205], 'H':[0.99985, 0.00015], 'N': [0.99632, 0.00368], 'C': [0.9892, 0.0108], 'Si':[0.922297, 0.046832, 0.030872], 'S':[0.9493, 0.0076, 0.0429, 0, 0.0002]}"
   ]
  },
  {
   "cell_type": "code",
   "execution_count": 3,
   "metadata": {},
   "outputs": [],
   "source": [
    "#user defined\n",
    "na_dict = {'O': [0.99757, 0.00038, 0.00205], 'H':[0.99985, 0.00015], 'N': [0.99632, 0.00368], \n",
    "            'C': [0.9892, 0.0108], 'Si':[0.922297, 0.046832, 0.030872], 'S':[0.9493, 0.0076, 0.0429, 0, 0.0002]}"
   ]
  },
  {
   "cell_type": "markdown",
   "metadata": {},
   "source": [
    "Performing na_correction and inputs not relevant for this workflow set as emptymerge_mv_metdata - from cell 2\n",
    "list of isotope tracers - ['C13', 'N15'] (in this example)\n",
    "ppm_input - not relevant here, enter any value (20 here)\n",
    "na_dict - from cell 3\n",
    "indistinguishable isotopes not relevant here- {}"
   ]
  },
  {
   "cell_type": "code",
   "execution_count": 4,
   "metadata": {},
   "outputs": [
    {
     "name": "stdout",
     "output_type": "stream",
     "text": [
      "{'C': [0.9892, 0.0108], 'H': [0.99985, 0.00015], 'Si': [0.922297, 0.046832, 0.030872], 'O': [0.99757, 0.00038, 0.00205], 'N': [0.99632, 0.00368], 'S': [0.9493, 0.0076, 0.0429, 0, 0.0002]}\n"
     ]
    },
    {
     "ename": "AttributeError",
     "evalue": "'module' object has no attribute 'index'",
     "output_type": "error",
     "traceback": [
      "\u001b[0;31m---------------------------------------------------------------------------\u001b[0m",
      "\u001b[0;31mAttributeError\u001b[0m                            Traceback (most recent call last)",
      "\u001b[0;32m<ipython-input-4-b95576ea39a8>\u001b[0m in \u001b[0;36m<module>\u001b[0;34m()\u001b[0m\n\u001b[0;32m----> 1\u001b[0;31m \u001b[0mna_corr_df\u001b[0m\u001b[0;34m,\u001b[0m \u001b[0mele_corr_dict\u001b[0m \u001b[0;34m=\u001b[0m \u001b[0mna_correction\u001b[0m\u001b[0;34m(\u001b[0m\u001b[0mmerged_df\u001b[0m\u001b[0;34m,\u001b[0m \u001b[0miso_tracers\u001b[0m\u001b[0;34m=\u001b[0m\u001b[0;34m[\u001b[0m\u001b[0;34m'C13'\u001b[0m\u001b[0;34m,\u001b[0m \u001b[0;34m'N15'\u001b[0m\u001b[0;34m]\u001b[0m\u001b[0;34m,\u001b[0m \u001b[0mppm_input_user\u001b[0m\u001b[0;34m=\u001b[0m\u001b[0;34m{\u001b[0m\u001b[0;34m}\u001b[0m\u001b[0;34m,\u001b[0m \u001b[0meleme_corr\u001b[0m\u001b[0;34m=\u001b[0m\u001b[0;34m{\u001b[0m\u001b[0;34m}\u001b[0m\u001b[0;34m,\u001b[0m \u001b[0mna_dict\u001b[0m\u001b[0;34m=\u001b[0m\u001b[0mna_dict\u001b[0m\u001b[0;34m)\u001b[0m\u001b[0;34m\u001b[0m\u001b[0m\n\u001b[0m\u001b[1;32m      2\u001b[0m \u001b[0mna_corr_df\u001b[0m \u001b[0;34m=\u001b[0m \u001b[0mreplace_negatives_in_column\u001b[0m\u001b[0;34m(\u001b[0m\u001b[0mna_corr_df\u001b[0m\u001b[0;34m,\u001b[0m \u001b[0mconst\u001b[0m\u001b[0;34m.\u001b[0m\u001b[0mNA_CORRECTED_WITH_ZERO\u001b[0m\u001b[0;34m,\u001b[0m \u001b[0mconst\u001b[0m\u001b[0;34m.\u001b[0m\u001b[0mNA_CORRECTED_COL\u001b[0m\u001b[0;34m)\u001b[0m\u001b[0;34m\u001b[0m\u001b[0m\n\u001b[1;32m      3\u001b[0m \u001b[0mna_corr_df\u001b[0m\u001b[0;34m.\u001b[0m\u001b[0mhead\u001b[0m\u001b[0;34m(\u001b[0m\u001b[0;34m)\u001b[0m\u001b[0;34m\u001b[0m\u001b[0m\n",
      "\u001b[0;32m/Users/raaisa/anaconda3/envs/python2/lib/python2.7/site-packages/corna-0.0.327-py2.7.egg/corna/algorithms/nacorr_lcms.pyc\u001b[0m in \u001b[0;36mna_correction\u001b[0;34m(merged_df, iso_tracers, ppm_input_user, eleme_corr, na_dict, autodetect)\u001b[0m\n\u001b[1;32m    164\u001b[0m             \u001b[0meleme_corr_dict\u001b[0m\u001b[0;34m[\u001b[0m\u001b[0mmetab\u001b[0m\u001b[0;34m]\u001b[0m \u001b[0;34m=\u001b[0m \u001b[0meleme_corr\u001b[0m\u001b[0;34m\u001b[0m\u001b[0m\n\u001b[1;32m    165\u001b[0m             final_df= perform_nacorrection_metab(std_label_df, metab, iso_tracers, required_col, na_dict,\n\u001b[0;32m--> 166\u001b[0;31m                                                      eleme_corr, final_df) \n\u001b[0m\u001b[1;32m    167\u001b[0m \u001b[0;34m\u001b[0m\u001b[0m\n\u001b[1;32m    168\u001b[0m     \u001b[0;31m#convert na corrected datframe back from wide format to long format\u001b[0m\u001b[0;34m\u001b[0m\u001b[0;34m\u001b[0m\u001b[0m\n",
      "\u001b[0;32m/Users/raaisa/anaconda3/envs/python2/lib/python2.7/site-packages/corna-0.0.327-py2.7.egg/corna/algorithms/nacorr_lcms.pyc\u001b[0m in \u001b[0;36mperform_nacorrection_metab\u001b[0;34m(df, metab, iso_tracers, required_col, na_dict, eleme_corr, final_df)\u001b[0m\n\u001b[1;32m    104\u001b[0m                                                                      iso_tracers, required_col)\n\u001b[1;32m    105\u001b[0m     \u001b[0mcorr_mats\u001b[0m \u001b[0;34m=\u001b[0m \u001b[0malgo\u001b[0m\u001b[0;34m.\u001b[0m\u001b[0mmake_all_corr_matrices\u001b[0m\u001b[0;34m(\u001b[0m\u001b[0miso_tracers\u001b[0m\u001b[0;34m,\u001b[0m \u001b[0mformula_dict\u001b[0m\u001b[0;34m,\u001b[0m \u001b[0mna_dict\u001b[0m\u001b[0;34m,\u001b[0m \u001b[0meleme_corr\u001b[0m\u001b[0;34m)\u001b[0m\u001b[0;34m\u001b[0m\u001b[0m\n\u001b[0;32m--> 106\u001b[0;31m     \u001b[0mcorrected_df\u001b[0m \u001b[0;34m=\u001b[0m \u001b[0mget_correct_df_by_multiplication\u001b[0m\u001b[0;34m(\u001b[0m\u001b[0miso_tracers\u001b[0m\u001b[0;34m,\u001b[0m \u001b[0mrequired_df\u001b[0m\u001b[0;34m,\u001b[0m \u001b[0mcorr_mats\u001b[0m\u001b[0;34m)\u001b[0m\u001b[0;34m\u001b[0m\u001b[0m\n\u001b[0m\u001b[1;32m    107\u001b[0m     \u001b[0minfo_df\u001b[0m\u001b[0;34m=\u001b[0m \u001b[0mparser\u001b[0m\u001b[0;34m.\u001b[0m\u001b[0madd_name_formula_label_col\u001b[0m\u001b[0;34m(\u001b[0m\u001b[0mcorrected_df\u001b[0m\u001b[0;34m,\u001b[0m \u001b[0mmetab\u001b[0m\u001b[0;34m,\u001b[0m \u001b[0mformula\u001b[0m\u001b[0;34m[\u001b[0m\u001b[0;36m0\u001b[0m\u001b[0;34m]\u001b[0m\u001b[0;34m,\u001b[0m \u001b[0miso_tracers\u001b[0m\u001b[0;34m,\u001b[0m \u001b[0meleme_corr\u001b[0m\u001b[0;34m)\u001b[0m\u001b[0;34m\u001b[0m\u001b[0m\n\u001b[1;32m    108\u001b[0m     \u001b[0mfinal_df\u001b[0m\u001b[0;34m=\u001b[0m\u001b[0mfinal_df\u001b[0m\u001b[0;34m.\u001b[0m\u001b[0mappend\u001b[0m\u001b[0;34m(\u001b[0m\u001b[0minfo_df\u001b[0m\u001b[0;34m)\u001b[0m\u001b[0;34m\u001b[0m\u001b[0m\n",
      "\u001b[0;32m/Users/raaisa/anaconda3/envs/python2/lib/python2.7/site-packages/corna-0.0.327-py2.7.egg/corna/algorithms/nacorr_lcms.pyc\u001b[0m in \u001b[0;36mget_correct_df_by_multiplication\u001b[0;34m(isotracers, preprocessed_df, corr_mats)\u001b[0m\n\u001b[1;32m     46\u001b[0m             \u001b[0;32mfor\u001b[0m \u001b[0mgroup_no\u001b[0m\u001b[0;34m,\u001b[0m \u001b[0mgroup\u001b[0m \u001b[0;32min\u001b[0m \u001b[0mgroup_by_index_cols\u001b[0m\u001b[0;34m:\u001b[0m\u001b[0;34m\u001b[0m\u001b[0m\n\u001b[1;32m     47\u001b[0m                 \u001b[0mgroup\u001b[0m\u001b[0;34m.\u001b[0m\u001b[0mindex\u001b[0m \u001b[0;34m=\u001b[0m \u001b[0mgroup\u001b[0m\u001b[0;34m.\u001b[0m\u001b[0mindex\u001b[0m\u001b[0;34m.\u001b[0m\u001b[0mget_level_values\u001b[0m\u001b[0;34m(\u001b[0m\u001b[0misotracer\u001b[0m\u001b[0;34m)\u001b[0m\u001b[0;34m\u001b[0m\u001b[0m\n\u001b[0;32m---> 48\u001b[0;31m                 \u001b[0mcorr_df\u001b[0m \u001b[0;34m=\u001b[0m \u001b[0mmultiplying_df_with_matrix\u001b[0m\u001b[0;34m(\u001b[0m\u001b[0misotracer\u001b[0m\u001b[0;34m,\u001b[0m \u001b[0mcorr_mats\u001b[0m\u001b[0;34m[\u001b[0m\u001b[0misotracer\u001b[0m\u001b[0;34m]\u001b[0m\u001b[0;34m,\u001b[0m \u001b[0mgroup\u001b[0m\u001b[0;34m)\u001b[0m\u001b[0;34m\u001b[0m\u001b[0m\n\u001b[0m\u001b[1;32m     49\u001b[0m                 \u001b[0mL\u001b[0m\u001b[0;34m.\u001b[0m\u001b[0mappend\u001b[0m\u001b[0;34m(\u001b[0m\u001b[0mcorr_df\u001b[0m\u001b[0;34m)\u001b[0m\u001b[0;34m\u001b[0m\u001b[0m\n\u001b[1;32m     50\u001b[0m                 \u001b[0mkeys\u001b[0m\u001b[0;34m.\u001b[0m\u001b[0mappend\u001b[0m\u001b[0;34m(\u001b[0m\u001b[0mgroup_no\u001b[0m\u001b[0;34m)\u001b[0m\u001b[0;34m\u001b[0m\u001b[0m\n",
      "\u001b[0;32m/Users/raaisa/anaconda3/envs/python2/lib/python2.7/site-packages/corna-0.0.327-py2.7.egg/corna/algorithms/nacorr_lcms.pyc\u001b[0m in \u001b[0;36mmultiplying_df_with_matrix\u001b[0;34m(isotracer, corr_mat_for_isotracer, curr_df)\u001b[0m\n\u001b[1;32m     73\u001b[0m     \u001b[0mcurr_df\u001b[0m \u001b[0;34m=\u001b[0m \u001b[0mcurr_df\u001b[0m\u001b[0;34m.\u001b[0m\u001b[0mreindex\u001b[0m\u001b[0;34m(\u001b[0m\u001b[0mnp\u001b[0m\u001b[0;34m.\u001b[0m\u001b[0marange\u001b[0m\u001b[0;34m(\u001b[0m\u001b[0mnum_cols\u001b[0m\u001b[0;34m)\u001b[0m\u001b[0;34m)\u001b[0m\u001b[0;34m.\u001b[0m\u001b[0mfillna\u001b[0m\u001b[0;34m(\u001b[0m\u001b[0;36m0\u001b[0m\u001b[0;34m)\u001b[0m\u001b[0;34m\u001b[0m\u001b[0m\n\u001b[1;32m     74\u001b[0m     \u001b[0mcorr_data\u001b[0m \u001b[0;34m=\u001b[0m \u001b[0mnp\u001b[0m\u001b[0;34m.\u001b[0m\u001b[0mmatmul\u001b[0m\u001b[0;34m(\u001b[0m\u001b[0mcorr_mat_for_isotracer\u001b[0m\u001b[0;34m,\u001b[0m \u001b[0mcurr_df\u001b[0m\u001b[0;34m.\u001b[0m\u001b[0mvalues\u001b[0m\u001b[0;34m)\u001b[0m\u001b[0;34m\u001b[0m\u001b[0m\n\u001b[0;32m---> 75\u001b[0;31m     \u001b[0mcorr_df\u001b[0m \u001b[0;34m=\u001b[0m \u001b[0mpd\u001b[0m\u001b[0;34m.\u001b[0m\u001b[0mDataFrame\u001b[0m\u001b[0;34m(\u001b[0m\u001b[0mdata\u001b[0m\u001b[0;34m=\u001b[0m\u001b[0mcorr_data\u001b[0m\u001b[0;34m,\u001b[0m \u001b[0mindex\u001b[0m\u001b[0;34m=\u001b[0m\u001b[0mpd\u001b[0m\u001b[0;34m.\u001b[0m\u001b[0mindex\u001b[0m\u001b[0;34m.\u001b[0m\u001b[0mnp\u001b[0m\u001b[0;34m.\u001b[0m\u001b[0marange\u001b[0m\u001b[0;34m(\u001b[0m\u001b[0mnum_rows\u001b[0m\u001b[0;34m)\u001b[0m\u001b[0;34m,\u001b[0m\u001b[0mcolumns\u001b[0m\u001b[0;34m=\u001b[0m\u001b[0mcurr_df\u001b[0m\u001b[0;34m.\u001b[0m\u001b[0mcolumns\u001b[0m\u001b[0;34m)\u001b[0m\u001b[0;34m\u001b[0m\u001b[0m\n\u001b[0m\u001b[1;32m     76\u001b[0m     \u001b[0mcorr_df\u001b[0m\u001b[0;34m.\u001b[0m\u001b[0mindex\u001b[0m\u001b[0;34m.\u001b[0m\u001b[0mname\u001b[0m \u001b[0;34m=\u001b[0m \u001b[0misotracer\u001b[0m\u001b[0;34m\u001b[0m\u001b[0m\n\u001b[1;32m     77\u001b[0m     \u001b[0;32mreturn\u001b[0m \u001b[0mcorr_df\u001b[0m\u001b[0;34m\u001b[0m\u001b[0m\n",
      "\u001b[0;31mAttributeError\u001b[0m: 'module' object has no attribute 'index'"
     ]
    }
   ],
   "source": [
    "na_corr_df, ele_corr_dict = na_correction(merged_df, iso_tracers=['C13', 'N15'], ppm_input_user={}, eleme_corr={}, na_dict=na_dict)\n",
    "na_corr_df = replace_negatives_in_column(na_corr_df, const.NA_CORRECTED_WITH_ZERO, const.NA_CORRECTED_COL)\n",
    "na_corr_df.head()"
   ]
  },
  {
   "cell_type": "markdown",
   "metadata": {},
   "source": [
    "post processing involves : replacing negative values by zero, calculating fraction enrichments, merging all data into file and saving as 'C13N15_lcms_high_res_corrected.csv'"
   ]
  },
  {
   "cell_type": "code",
   "execution_count": 13,
   "metadata": {},
   "outputs": [
    {
     "name": "stdout",
     "output_type": "stream",
     "text": [
      "      Sample  Name              Label        Formula     Pool_total  \\\n",
      "0   Sample 1  Cpd1         C12 PARENT  C17H27N3O17P2  278958.590202   \n",
      "1   Sample 1  Cpd1        N15-label-1  C17H27N3O17P2  278958.590202   \n",
      "2   Sample 1  Cpd1        N15-label-2  C17H27N3O17P2  278958.590202   \n",
      "3   Sample 1  Cpd1        N15-label-3  C17H27N3O17P2  278958.590202   \n",
      "4   Sample 1  Cpd1        C13-label-1  C17H27N3O17P2  278958.590202   \n",
      "5   Sample 1  Cpd1   C13N15-label-1-1  C17H27N3O17P2  278958.590202   \n",
      "6   Sample 1  Cpd1   C13N15-label-1-2  C17H27N3O17P2  278958.590202   \n",
      "7   Sample 1  Cpd1   C13N15-label-1-3  C17H27N3O17P2  278958.590202   \n",
      "8   Sample 1  Cpd1        C13-label-2  C17H27N3O17P2  278958.590202   \n",
      "9   Sample 1  Cpd1   C13N15-label-2-1  C17H27N3O17P2  278958.590202   \n",
      "10  Sample 1  Cpd1   C13N15-label-2-2  C17H27N3O17P2  278958.590202   \n",
      "11  Sample 1  Cpd1   C13N15-label-2-3  C17H27N3O17P2  278958.590202   \n",
      "12  Sample 1  Cpd1        C13-label-3  C17H27N3O17P2  278958.590202   \n",
      "13  Sample 1  Cpd1   C13N15-label-3-1  C17H27N3O17P2  278958.590202   \n",
      "14  Sample 1  Cpd1   C13N15-label-3-2  C17H27N3O17P2  278958.590202   \n",
      "15  Sample 1  Cpd1   C13N15-label-3-3  C17H27N3O17P2  278958.590202   \n",
      "16  Sample 1  Cpd1        C13-label-4  C17H27N3O17P2  278958.590202   \n",
      "17  Sample 1  Cpd1   C13N15-label-4-1  C17H27N3O17P2  278958.590202   \n",
      "18  Sample 1  Cpd1   C13N15-label-4-2  C17H27N3O17P2  278958.590202   \n",
      "19  Sample 1  Cpd1   C13N15-label-4-3  C17H27N3O17P2  278958.590202   \n",
      "20  Sample 1  Cpd1        C13-label-5  C17H27N3O17P2  278958.590202   \n",
      "21  Sample 1  Cpd1   C13N15-label-5-1  C17H27N3O17P2  278958.590202   \n",
      "22  Sample 1  Cpd1   C13N15-label-5-2  C17H27N3O17P2  278958.590202   \n",
      "23  Sample 1  Cpd1   C13N15-label-5-3  C17H27N3O17P2  278958.590202   \n",
      "24  Sample 1  Cpd1        C13-label-6  C17H27N3O17P2  278958.590202   \n",
      "25  Sample 1  Cpd1   C13N15-label-6-1  C17H27N3O17P2  278958.590202   \n",
      "26  Sample 1  Cpd1   C13N15-label-6-2  C17H27N3O17P2  278958.590202   \n",
      "27  Sample 1  Cpd1   C13N15-label-6-3  C17H27N3O17P2  278958.590202   \n",
      "28  Sample 1  Cpd1   C13N15-label-7-0  C17H27N3O17P2  278958.590202   \n",
      "29  Sample 1  Cpd1   C13N15-label-7-1  C17H27N3O17P2  278958.590202   \n",
      "..       ...   ...                ...            ...            ...   \n",
      "42  Sample 1  Cpd1  C13N15-label-10-2  C17H27N3O17P2  278958.590202   \n",
      "43  Sample 1  Cpd1  C13N15-label-10-3  C17H27N3O17P2  278958.590202   \n",
      "44  Sample 1  Cpd1  C13N15-label-11-0  C17H27N3O17P2  278958.590202   \n",
      "45  Sample 1  Cpd1  C13N15-label-11-1  C17H27N3O17P2  278958.590202   \n",
      "46  Sample 1  Cpd1  C13N15-label-11-2  C17H27N3O17P2  278958.590202   \n",
      "47  Sample 1  Cpd1  C13N15-label-11-3  C17H27N3O17P2  278958.590202   \n",
      "48  Sample 1  Cpd1  C13N15-label-12-0  C17H27N3O17P2  278958.590202   \n",
      "49  Sample 1  Cpd1  C13N15-label-12-1  C17H27N3O17P2  278958.590202   \n",
      "50  Sample 1  Cpd1  C13N15-label-12-2  C17H27N3O17P2  278958.590202   \n",
      "51  Sample 1  Cpd1  C13N15-label-12-3  C17H27N3O17P2  278958.590202   \n",
      "52  Sample 1  Cpd1  C13N15-label-13-0  C17H27N3O17P2  278958.590202   \n",
      "53  Sample 1  Cpd1  C13N15-label-13-1  C17H27N3O17P2  278958.590202   \n",
      "54  Sample 1  Cpd1  C13N15-label-13-2  C17H27N3O17P2  278958.590202   \n",
      "55  Sample 1  Cpd1  C13N15-label-13-3  C17H27N3O17P2  278958.590202   \n",
      "56  Sample 1  Cpd1  C13N15-label-14-0  C17H27N3O17P2  278958.590202   \n",
      "57  Sample 1  Cpd1  C13N15-label-14-1  C17H27N3O17P2  278958.590202   \n",
      "58  Sample 1  Cpd1  C13N15-label-14-2  C17H27N3O17P2  278958.590202   \n",
      "59  Sample 1  Cpd1  C13N15-label-14-3  C17H27N3O17P2  278958.590202   \n",
      "60  Sample 1  Cpd1  C13N15-label-15-0  C17H27N3O17P2  278958.590202   \n",
      "61  Sample 1  Cpd1  C13N15-label-15-1  C17H27N3O17P2  278958.590202   \n",
      "62  Sample 1  Cpd1  C13N15-label-15-2  C17H27N3O17P2  278958.590202   \n",
      "63  Sample 1  Cpd1  C13N15-label-15-3  C17H27N3O17P2  278958.590202   \n",
      "64  Sample 1  Cpd1  C13N15-label-16-0  C17H27N3O17P2  278958.590202   \n",
      "65  Sample 1  Cpd1  C13N15-label-16-1  C17H27N3O17P2  278958.590202   \n",
      "66  Sample 1  Cpd1  C13N15-label-16-2  C17H27N3O17P2  278958.590202   \n",
      "67  Sample 1  Cpd1  C13N15-label-16-3  C17H27N3O17P2  278958.590202   \n",
      "68  Sample 1  Cpd1  C13N15-label-17-0  C17H27N3O17P2  278958.590202   \n",
      "69  Sample 1  Cpd1  C13N15-label-17-1  C17H27N3O17P2  278958.590202   \n",
      "70  Sample 1  Cpd1  C13N15-label-17-2  C17H27N3O17P2  278958.590202   \n",
      "71  Sample 1  Cpd1  C13N15-label-17-3  C17H27N3O17P2  278958.590202   \n",
      "\n",
      "    Fractional enrichment  \n",
      "0            1.813200e-01  \n",
      "1            2.856353e-01  \n",
      "2            7.974485e-02  \n",
      "3            1.750364e-02  \n",
      "4            0.000000e+00  \n",
      "5            1.665683e-03  \n",
      "6            9.859559e-03  \n",
      "7            1.297323e-03  \n",
      "8            9.887914e-03  \n",
      "9            1.591341e-01  \n",
      "10           6.421642e-02  \n",
      "11           1.617490e-02  \n",
      "12           0.000000e+00  \n",
      "13           3.328609e-02  \n",
      "14           7.210720e-02  \n",
      "15           1.969415e-02  \n",
      "16           2.417306e-04  \n",
      "17           0.000000e+00  \n",
      "18           9.341102e-03  \n",
      "19           1.193783e-03  \n",
      "20           0.000000e+00  \n",
      "21           5.724180e-04  \n",
      "22           3.116949e-02  \n",
      "23           5.722819e-03  \n",
      "24           1.705358e-06  \n",
      "25           0.000000e+00  \n",
      "26           0.000000e+00  \n",
      "27           0.000000e+00  \n",
      "28           0.000000e+00  \n",
      "29           4.596154e-06  \n",
      "..                    ...  \n",
      "42           0.000000e+00  \n",
      "43           2.182550e-10  \n",
      "44           0.000000e+00  \n",
      "45           9.617073e-13  \n",
      "46           2.188958e-11  \n",
      "47           0.000000e+00  \n",
      "48           3.116801e-17  \n",
      "49           0.000000e+00  \n",
      "50           0.000000e+00  \n",
      "51           6.802538e-14  \n",
      "52           1.617163e-17  \n",
      "53           1.072134e-16  \n",
      "54           8.352002e-16  \n",
      "55           0.000000e+00  \n",
      "56           0.000000e+00  \n",
      "57           0.000000e+00  \n",
      "58           0.000000e+00  \n",
      "59           9.914030e-19  \n",
      "60           3.685783e-18  \n",
      "61           1.926546e-17  \n",
      "62           0.000000e+00  \n",
      "63           0.000000e+00  \n",
      "64           1.388321e-17  \n",
      "65           3.353687e-17  \n",
      "66           1.522807e-17  \n",
      "67           3.472429e-18  \n",
      "68           0.000000e+00  \n",
      "69           0.000000e+00  \n",
      "70           0.000000e+00  \n",
      "71           0.000000e+00  \n",
      "\n",
      "[72 rows x 6 columns]\n"
     ]
    }
   ],
   "source": [
    "output_df = fractional_enrichment(na_corr_df)\n",
    "print output_df"
   ]
  },
  {
   "cell_type": "code",
   "execution_count": 16,
   "metadata": {},
   "outputs": [],
   "source": [
    "df= pd.merge(output_df, na_corr_df, on=['Label', 'Sample', 'Name', 'Formula'])\n",
    "merged_results_df = pd.merge(df, merged_df)"
   ]
  },
  {
   "cell_type": "code",
   "execution_count": 17,
   "metadata": {},
   "outputs": [],
   "source": [
    "merged_results_df.to_csv('C13N15_lcms_high_res_corrected.csv')"
   ]
  }
 ],
 "metadata": {
  "kernelspec": {
   "display_name": "Python 2",
   "language": "python",
   "name": "python2"
  },
  "language_info": {
   "codemirror_mode": {
    "name": "ipython",
    "version": 2
   },
   "file_extension": ".py",
   "mimetype": "text/x-python",
   "name": "python",
   "nbconvert_exporter": "python",
   "pygments_lexer": "ipython2",
   "version": "2.7.15"
  }
 },
 "nbformat": 4,
 "nbformat_minor": 2
}
